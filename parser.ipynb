{
 "cells": [
  {
   "cell_type": "code",
   "execution_count": null,
   "metadata": {},
   "outputs": [],
   "source": [
    "%matplotlib inline\n",
    "import pandas as pd"
   ]
  },
  {
   "cell_type": "markdown",
   "metadata": {},
   "source": [
    "# Obtaining data from SatNOGS\n",
    "- Need to create an account in [db.satnogs.org](http://db.satnogs.org) to download telemetry\n",
    "  - accounts on [network-dev.satnogs.org](http://network-dev.satnogs.org) are separate\n",
    "\n",
    "- Choice of frames to download: everything/last week/last month\n",
    "  - Clicking download from the dropdown, or visiting the links below, means you wait for an email with a link\n",
    "      - https://db.satnogs.org/frames/[norad_id]/\n",
    "      - https://db.satnogs.org/frames/[norad_id]/1\n",
    "      - https://db.satnogs.org/frames/[norad_id]/2\n",
    "  - The link was to a CSV file; only 1.7 MB, so it has been temporarily included here"
   ]
  },
  {
   "cell_type": "code",
   "execution_count": null,
   "metadata": {},
   "outputs": [],
   "source": [
    "!head data/43617-482-20181022T023205Z-month.csv --lines 3"
   ]
  },
  {
   "cell_type": "code",
   "execution_count": 3,
   "metadata": {},
   "outputs": [
    {
     "data": {
      "text/html": [
       "<div>\n",
       "<style scoped>\n",
       "    .dataframe tbody tr th:only-of-type {\n",
       "        vertical-align: middle;\n",
       "    }\n",
       "\n",
       "    .dataframe tbody tr th {\n",
       "        vertical-align: top;\n",
       "    }\n",
       "\n",
       "    .dataframe thead th {\n",
       "        text-align: right;\n",
       "    }\n",
       "</style>\n",
       "<table border=\"1\" class=\"dataframe\">\n",
       "  <thead>\n",
       "    <tr style=\"text-align: right;\">\n",
       "      <th></th>\n",
       "      <th>Date</th>\n",
       "      <th>Binary</th>\n",
       "    </tr>\n",
       "  </thead>\n",
       "  <tbody>\n",
       "    <tr>\n",
       "      <th>0</th>\n",
       "      <td>2018-10-22 01:59:41</td>\n",
       "      <td>AE6CB2A4827260AE9464B09CB0E103F0930E0770001810...</td>\n",
       "    </tr>\n",
       "    <tr>\n",
       "      <th>1</th>\n",
       "      <td>2018-10-22 00:26:07</td>\n",
       "      <td>AE6CB2A4827260AE9464B09CB0E103F0930E07F0001810...</td>\n",
       "    </tr>\n",
       "    <tr>\n",
       "      <th>2</th>\n",
       "      <td>2018-10-22 00:25:01</td>\n",
       "      <td>AE6CB2A4827260AE9464B09CB0E103F0930E07F0001810...</td>\n",
       "    </tr>\n",
       "    <tr>\n",
       "      <th>3</th>\n",
       "      <td>2018-10-22 00:25:00</td>\n",
       "      <td>AE6CB2A4827260AE9464B09CB0E103F0930E07F0001810...</td>\n",
       "    </tr>\n",
       "    <tr>\n",
       "      <th>4</th>\n",
       "      <td>2018-10-22 00:24:28</td>\n",
       "      <td>AE6CB2A4827260AE9464B09CB0E103F0930E07F0001810...</td>\n",
       "    </tr>\n",
       "  </tbody>\n",
       "</table>\n",
       "</div>"
      ],
      "text/plain": [
       "                  Date                                             Binary\n",
       "0  2018-10-22 01:59:41  AE6CB2A4827260AE9464B09CB0E103F0930E0770001810...\n",
       "1  2018-10-22 00:26:07  AE6CB2A4827260AE9464B09CB0E103F0930E07F0001810...\n",
       "2  2018-10-22 00:25:01  AE6CB2A4827260AE9464B09CB0E103F0930E07F0001810...\n",
       "3  2018-10-22 00:25:00  AE6CB2A4827260AE9464B09CB0E103F0930E07F0001810...\n",
       "4  2018-10-22 00:24:28  AE6CB2A4827260AE9464B09CB0E103F0930E07F0001810..."
      ]
     },
     "execution_count": 3,
     "metadata": {},
     "output_type": "execute_result"
    }
   ],
   "source": [
    "df_data = pd.read_csv(\"data/43617-482-20181022T023205Z-month.csv\", names=['Date', 'Binary'], sep='|')\n",
    "df_data[:5]"
   ]
  },
  {
   "cell_type": "markdown",
   "metadata": {},
   "source": [
    "# Parsing data\n",
    "To get started we have included the kaitai parsers in the repo ([check `kaitai_parsers` folder](kaitai_parsers)). We've generated them using [DL4DP's struct](https://github.com/DL4PD/satnogs-kaitai-structs). The command to generate them is:\n",
    "\n",
    "`kaitai-struct-compiler satnogs-kaitai-structs/ax25-elfin-tlm-parser.ksy --target python`"
   ]
  },
  {
   "cell_type": "code",
   "execution_count": 4,
   "metadata": {},
   "outputs": [],
   "source": [
    "from kaitai_parsers.ax25frames import Ax25frames\n",
    "import binascii"
   ]
  },
  {
   "cell_type": "code",
   "execution_count": 5,
   "metadata": {},
   "outputs": [],
   "source": [
    "raw = binascii.unhexlify(df_data['Binary'][0])\n",
    "pkt = Ax25frames.from_bytes(raw)"
   ]
  },
  {
   "cell_type": "code",
   "execution_count": 6,
   "metadata": {},
   "outputs": [
    {
     "data": {
      "text/plain": [
       "kaitai_parsers.ax25frames.Ax25frames.UiFrame"
      ]
     },
     "execution_count": 6,
     "metadata": {},
     "output_type": "execute_result"
    }
   ],
   "source": [
    "pkt.UiFrame"
   ]
  },
  {
   "cell_type": "code",
   "execution_count": null,
   "metadata": {},
   "outputs": [],
   "source": [
    "from kaitai_parsers.elfin import Elfin\n",
    "pkt2 = Elfin.from_bytes(raw)"
   ]
  },
  {
   "cell_type": "code",
   "execution_count": null,
   "metadata": {},
   "outputs": [],
   "source": [
    "pkt2.UiFrame\n",
    "print(pkt2.UiFrame)"
   ]
  },
  {
   "cell_type": "markdown",
   "metadata": {},
   "source": [
    "# Next steps\n",
    "  - Assemble telemetry data from packets using Elfin kaitai struct\n",
    "  - Automate data download from SatNOGS Network\n",
    "    - Settings page for db account has API key: https://db.satnogs.org/users/edit/\n",
    "    - API doc for db: https://db.satnogs.org/api/\n",
    "    - There's a CLI for downloading SatNOGS data, but I'm unsure if this will grab telemetry: https://github.com/deckbsd/glouton-satnogs-data-downloader"
   ]
  }
 ],
 "metadata": {
  "kernelspec": {
   "display_name": "Python 3",
   "language": "python",
   "name": "python3"
  },
  "language_info": {
   "codemirror_mode": {
    "name": "ipython",
    "version": 3
   },
   "file_extension": ".py",
   "mimetype": "text/x-python",
   "name": "python",
   "nbconvert_exporter": "python",
   "pygments_lexer": "ipython3",
   "version": "3.6.6"
  }
 },
 "nbformat": 4,
 "nbformat_minor": 2
}
