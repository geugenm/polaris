{
 "cells": [
  {
   "cell_type": "code",
   "execution_count": 1,
   "metadata": {},
   "outputs": [],
   "source": [
    "%matplotlib inline\n",
    "import pandas as pd\n",
    "import sys\n",
    "sys.path.append('..') # Needed for importing kaitai modules from the directory above"
   ]
  },
  {
   "cell_type": "markdown",
   "metadata": {},
   "source": [
    "# Obtaining data from SatNOGS\n",
    "- Need to create an account in [db.satnogs.org](http://db.satnogs.org) to download telemetry\n",
    "  - Accounts on [network-dev.satnogs.org](http://network-dev.satnogs.org) are separate\n",
    "\n",
    "- Choice of frames to download: everything/last week/last month\n",
    "  - Clicking download from the dropdown, or visiting the links below, means you wait for an email with a link\n",
    "      - https://db.satnogs.org/frames/[norad_id]/\n",
    "      - https://db.satnogs.org/frames/[norad_id]/1\n",
    "      - https://db.satnogs.org/frames/[norad_id]/2\n",
    "  - The CSV file in this directory is from [Elfin A](https://db.satnogs.org/satellite/43617/); it's only 1.7 MB, so it has been temporarily included here"
   ]
  },
  {
   "cell_type": "code",
   "execution_count": 2,
   "metadata": {},
   "outputs": [
    {
     "name": "stdout",
     "output_type": "stream",
     "text": [
      "2018-10-22 01:59:41|AE6CB2A4827260AE9464B09CB0E103F0930E07700018102201575200320035001B000202B20305013800F301050000000CFF7F12806620FB79193DF95112406340F9A81BAC000806600950094008B014146464181022015755002E0034001B000102AC02FF013500EF00FF00000013FFC012406680FD690F06FC2727128064A0F9F007D1000809700BA00ED000000C0C0606181022015258007B002CFF4A005700A8FFFD0300080016800C8018102201533400A5002DFF5A0082002793FFFE0380088013000A001900B603B60070275ECEB000005B9CFB0100090F1117006A198D0000281901910000000007000000000200000000070000000002000000000700000000020000000007656C6661565E\n",
      "2018-10-22 00:26:07|AE6CB2A4827260AE9464B09CB0E103F0930E07F000181022002545003000320016000202A702FF013300F0010400050013FCCF12C06560FCBF17F0F6A812606260F6FC1ACD00080DD00AF00AF00A1012126060181022002547001F002F0015000102A202FF013F00ED00FE0000000EFFBB1240668000160F01F77212806360F76606E4000809900AD00C2000000C0C0505181022002522FFFEFF66FFEDFFC80016FF370480FF00FF00FB0018102200163300590090FF5900310096006105000A801F80FB801900B503EA00461ACCAF00005A9BB30100090F1117005DC008030094C105910000000007000000000200000000070000000002000000000700000000020000000007656C66613D5E\n",
      "2018-10-22 00:25:01|AE6CB2A4827260AE9464B09CB0E103F0930E07F000181022002244003400380018000202AB02FF013A00F701050003000EFD70134065A0F83E17FCF749132062C0F46A1AEC00080DC00AC00AD009F012126161181022002241003000370017000102A802FF013400F400FF00000019FFF212C0668000160F02F7F3130063E0F7B3070200080A500B600D4000000C0C05051810220015580050007EFF4D00272700A2004C06800A801F80FC8018102200163300590090FF5900310096006105000A801F80FB801900B503EA004514CCAF00005A9BB20100090F1117005DC008030094C105910000000007000000000200000000070000000002000000000700000000020000000007656C6661735E\n"
     ]
    }
   ],
   "source": [
    "!head ../data/43617-482-20181022T023205Z-month.csv --lines 3"
   ]
  },
  {
   "cell_type": "code",
   "execution_count": 3,
   "metadata": {},
   "outputs": [
    {
     "data": {
      "text/html": [
       "<div>\n",
       "<style scoped>\n",
       "    .dataframe tbody tr th:only-of-type {\n",
       "        vertical-align: middle;\n",
       "    }\n",
       "\n",
       "    .dataframe tbody tr th {\n",
       "        vertical-align: top;\n",
       "    }\n",
       "\n",
       "    .dataframe thead th {\n",
       "        text-align: right;\n",
       "    }\n",
       "</style>\n",
       "<table border=\"1\" class=\"dataframe\">\n",
       "  <thead>\n",
       "    <tr style=\"text-align: right;\">\n",
       "      <th></th>\n",
       "      <th>Date</th>\n",
       "      <th>Binary</th>\n",
       "    </tr>\n",
       "  </thead>\n",
       "  <tbody>\n",
       "    <tr>\n",
       "      <th>0</th>\n",
       "      <td>2018-10-22 01:59:41</td>\n",
       "      <td>AE6CB2A4827260AE9464B09CB0E103F0930E0770001810...</td>\n",
       "    </tr>\n",
       "    <tr>\n",
       "      <th>1</th>\n",
       "      <td>2018-10-22 00:26:07</td>\n",
       "      <td>AE6CB2A4827260AE9464B09CB0E103F0930E07F0001810...</td>\n",
       "    </tr>\n",
       "    <tr>\n",
       "      <th>2</th>\n",
       "      <td>2018-10-22 00:25:01</td>\n",
       "      <td>AE6CB2A4827260AE9464B09CB0E103F0930E07F0001810...</td>\n",
       "    </tr>\n",
       "    <tr>\n",
       "      <th>3</th>\n",
       "      <td>2018-10-22 00:25:00</td>\n",
       "      <td>AE6CB2A4827260AE9464B09CB0E103F0930E07F0001810...</td>\n",
       "    </tr>\n",
       "    <tr>\n",
       "      <th>4</th>\n",
       "      <td>2018-10-22 00:24:28</td>\n",
       "      <td>AE6CB2A4827260AE9464B09CB0E103F0930E07F0001810...</td>\n",
       "    </tr>\n",
       "  </tbody>\n",
       "</table>\n",
       "</div>"
      ],
      "text/plain": [
       "                  Date                                             Binary\n",
       "0  2018-10-22 01:59:41  AE6CB2A4827260AE9464B09CB0E103F0930E0770001810...\n",
       "1  2018-10-22 00:26:07  AE6CB2A4827260AE9464B09CB0E103F0930E07F0001810...\n",
       "2  2018-10-22 00:25:01  AE6CB2A4827260AE9464B09CB0E103F0930E07F0001810...\n",
       "3  2018-10-22 00:25:00  AE6CB2A4827260AE9464B09CB0E103F0930E07F0001810...\n",
       "4  2018-10-22 00:24:28  AE6CB2A4827260AE9464B09CB0E103F0930E07F0001810..."
      ]
     },
     "execution_count": 3,
     "metadata": {},
     "output_type": "execute_result"
    }
   ],
   "source": [
    "df_data = pd.read_csv(\"../data/43617-482-20181022T023205Z-month.csv\", names=['Date', 'Binary'], sep='|')\n",
    "df_data.head()"
   ]
  },
  {
   "cell_type": "markdown",
   "metadata": {},
   "source": [
    "# Parsing data\n",
    "To get started we have included the kaitai parsers in the repo ([check `kaitai_parsers` folder](kaitai_parsers)). We've generated them using [DL4DP's struct](https://github.com/DL4PD/satnogs-kaitai-structs). The command to generate them is:\n",
    "\n",
    "`kaitai-struct-compiler satnogs-kaitai-structs/ax25-elfin-tlm-parser.ksy --target python`"
   ]
  },
  {
   "cell_type": "code",
   "execution_count": 4,
   "metadata": {},
   "outputs": [],
   "source": [
    "from kaitai_parsers.ax25frames import Ax25frames\n",
    "import binascii"
   ]
  },
  {
   "cell_type": "code",
   "execution_count": 5,
   "metadata": {},
   "outputs": [],
   "source": [
    "raw = binascii.unhexlify(df_data['Binary'][0])\n",
    "pkt = Ax25frames.from_bytes(raw)"
   ]
  },
  {
   "cell_type": "code",
   "execution_count": 6,
   "metadata": {},
   "outputs": [
    {
     "data": {
      "text/plain": [
       "['DestAddress',\n",
       " 'Hdr',\n",
       " 'IFrame',\n",
       " 'SrcAddress',\n",
       " 'UiFrame',\n",
       " '__class__',\n",
       " '__delattr__',\n",
       " '__dict__',\n",
       " '__dir__',\n",
       " '__doc__',\n",
       " '__enter__',\n",
       " '__eq__',\n",
       " '__exit__',\n",
       " '__format__',\n",
       " '__ge__',\n",
       " '__getattribute__',\n",
       " '__gt__',\n",
       " '__hash__',\n",
       " '__init__',\n",
       " '__init_subclass__',\n",
       " '__le__',\n",
       " '__lt__',\n",
       " '__module__',\n",
       " '__ne__',\n",
       " '__new__',\n",
       " '__reduce__',\n",
       " '__reduce_ex__',\n",
       " '__repr__',\n",
       " '__setattr__',\n",
       " '__sizeof__',\n",
       " '__str__',\n",
       " '__subclasshook__',\n",
       " '__weakref__',\n",
       " '_io',\n",
       " '_parent',\n",
       " '_raw_ax25_header',\n",
       " '_read',\n",
       " '_root',\n",
       " 'ax25_header',\n",
       " 'close',\n",
       " 'frametype',\n",
       " 'from_bytes',\n",
       " 'from_file',\n",
       " 'from_io']"
      ]
     },
     "execution_count": 6,
     "metadata": {},
     "output_type": "execute_result"
    }
   ],
   "source": [
    "dir(pkt)"
   ]
  },
  {
   "cell_type": "code",
   "execution_count": 7,
   "metadata": {},
   "outputs": [
    {
     "data": {
      "text/plain": [
       "False"
      ]
     },
     "execution_count": 7,
     "metadata": {},
     "output_type": "execute_result"
    }
   ],
   "source": [
    "from kaitai_parsers.elfin import Elfin\n",
    "pkt2 = Elfin.from_bytes(raw)\n",
    "type(pkt2.ax25_info) is Elfin.ElfinTlmData"
   ]
  },
  {
   "cell_type": "code",
   "execution_count": 8,
   "metadata": {},
   "outputs": [
    {
     "data": {
      "text/plain": [
       "['Ax25Hdr',\n",
       " 'DestCallsign',\n",
       " 'ElfinCmdResponse',\n",
       " 'ElfinHskpPacket',\n",
       " 'ElfinTlmData',\n",
       " 'SrcCallsign',\n",
       " '__class__',\n",
       " '__delattr__',\n",
       " '__dict__',\n",
       " '__dir__',\n",
       " '__doc__',\n",
       " '__enter__',\n",
       " '__eq__',\n",
       " '__exit__',\n",
       " '__format__',\n",
       " '__ge__',\n",
       " '__getattribute__',\n",
       " '__gt__',\n",
       " '__hash__',\n",
       " '__init__',\n",
       " '__init_subclass__',\n",
       " '__le__',\n",
       " '__lt__',\n",
       " '__module__',\n",
       " '__ne__',\n",
       " '__new__',\n",
       " '__reduce__',\n",
       " '__reduce_ex__',\n",
       " '__repr__',\n",
       " '__setattr__',\n",
       " '__sizeof__',\n",
       " '__str__',\n",
       " '__subclasshook__',\n",
       " '__weakref__',\n",
       " '_io',\n",
       " '_parent',\n",
       " '_raw__raw_ax25_info',\n",
       " '_raw_ax25_header',\n",
       " '_raw_ax25_info',\n",
       " '_read',\n",
       " '_root',\n",
       " 'ax25_header',\n",
       " 'ax25_info',\n",
       " 'close',\n",
       " 'from_bytes',\n",
       " 'from_file',\n",
       " 'from_io']"
      ]
     },
     "execution_count": 8,
     "metadata": {},
     "output_type": "execute_result"
    }
   ],
   "source": [
    "dir(pkt2)"
   ]
  },
  {
   "cell_type": "markdown",
   "metadata": {},
   "source": [
    "# Decoding telemetry"
   ]
  },
  {
   "cell_type": "code",
   "execution_count": 9,
   "metadata": {},
   "outputs": [],
   "source": [
    "df_data['pkt_type'] = None\n",
    "df_data['pkt'] = None\n",
    "\n",
    "for index, beacon in df_data.iterrows():\n",
    "    raw = binascii.unhexlify(beacon['Binary'])\n",
    "    pkt = Elfin.from_bytes(raw)\n",
    "    df_data.loc[index, 'pkt'] = pkt.ax25_info\n",
    "    df_data.loc[index, 'pkt_type'] = type(pkt.ax25_info)"
   ]
  },
  {
   "cell_type": "code",
   "execution_count": 10,
   "metadata": {},
   "outputs": [],
   "source": [
    "# Filter telemetry packets\n",
    "df_data = df_data[df_data.pkt_type == Elfin.ElfinTlmData]"
   ]
  },
  {
   "cell_type": "code",
   "execution_count": 11,
   "metadata": {},
   "outputs": [],
   "source": [
    "from datetime import datetime\n",
    "df_data['Time'] = 0\n",
    "\n",
    "def decode_date(date):\n",
    "    date_str = str(hex(date))\n",
    "    return int(date_str[2:])\n",
    "\n",
    "for index, beacon in df_data[:-1].iterrows():\n",
    "    year = decode_date(beacon.pkt.elfin_hskp_pwr1_rtcc_year) + 2000\n",
    "    month = decode_date(beacon.pkt.elfin_hskp_pwr1_rtcc_month)\n",
    "    day = decode_date(beacon.pkt.elfin_hskp_pwr1_rtcc_day)\n",
    "    hour = decode_date(beacon.pkt.elfin_hskp_pwr1_rtcc_hour)\n",
    "    minute = decode_date(beacon.pkt.elfin_hskp_pwr1_rtcc_minute)\n",
    "    second = decode_date(beacon.pkt.elfin_hskp_pwr1_rtcc_second)\n",
    "    df_data.loc[index, \"Time\"] = datetime(year, month, day, hour, minute, second)"
   ]
  },
  {
   "cell_type": "code",
   "execution_count": 12,
   "metadata": {},
   "outputs": [
    {
     "data": {
      "text/plain": [
       "<matplotlib.axes._subplots.AxesSubplot at 0x7ff7abd9df60>"
      ]
     },
     "execution_count": 12,
     "metadata": {},
     "output_type": "execute_result"
    },
    {
     "data": {
      "image/png": "[encoded data removed]",
      "text/plain": [
       "<Figure size 432x288 with 1 Axes>"
      ]
     },
     "metadata": {},
     "output_type": "display_data"
    }
   ],
   "source": [
    "df_data['Temp [ºC]'] = 0\n",
    "\n",
    "for index, beacon in df_data[:].iterrows():\n",
    "    d = beacon.pkt.elfin_hskp_pwr1_bat_mon_1_temperature_register\n",
    "    d = (d / 32.0) * 0.125\n",
    "    df_data.loc[index, 'Temp [ºC]'] = d\n",
    "\n",
    "df_data.plot(x='Time', y='Temp [ºC]')"
   ]
  },
  {
   "cell_type": "code",
   "execution_count": 13,
   "metadata": {},
   "outputs": [
    {
     "data": {
      "text/plain": [
       "<matplotlib.axes._subplots.AxesSubplot at 0x7ff7a5e434a8>"
      ]
     },
     "execution_count": 13,
     "metadata": {},
     "output_type": "execute_result"
    },
    {
     "data": {
      "image/png": "[encoded data removed]",
      "text/plain": [
       "<Figure size 432x288 with 1 Axes>"
      ]
     },
     "metadata": {},
     "output_type": "display_data"
    }
   ],
   "source": [
    "df_data['Voltage [V]'] = 0\n",
    "\n",
    "for index, beacon in df_data[:].iterrows():\n",
    "    d = beacon.pkt.elfin_hskp_pwr1_bat_mon_1_volt_reg\n",
    "    d = (d / 32.0) * 4.88 / 1000\n",
    "    df_data.loc[index, 'Voltage [V]'] = d\n",
    "\n",
    "df_data.plot(x='Time', y='Voltage [V]')"
   ]
  },
  {
   "cell_type": "code",
   "execution_count": 14,
   "metadata": {},
   "outputs": [
    {
     "data": {
      "text/plain": [
       "<matplotlib.axes._subplots.AxesSubplot at 0x7ff7a5e1f978>"
      ]
     },
     "execution_count": 14,
     "metadata": {},
     "output_type": "execute_result"
    },
    {
     "data": {
      "image/png": "[encoded data removed]",
      "text/plain": [
       "<Figure size 432x288 with 1 Axes>"
      ]
     },
     "metadata": {},
     "output_type": "display_data"
    }
   ],
   "source": [
    "df_data['Current [mA]'] = 0\n",
    "\n",
    "for index, beacon in df_data[:].iterrows():\n",
    "    d = beacon.pkt.elfin_hskp_pwr1_bat_mon_1_avg_cur_reg\n",
    "    d = d * 0.065104167\n",
    "    df_data.loc[index, 'Current [mA]'] = d\n",
    "\n",
    "df_data.plot(x='Time', y='Current [mA]')"
   ]
  },
  {
   "cell_type": "code",
   "execution_count": 15,
   "metadata": {},
   "outputs": [],
   "source": [
    "df_data.to_pickle('df_elfin.pickle')"
   ]
  }
 ],
 "metadata": {
  "kernelspec": {
   "display_name": "Python 3",
   "language": "python",
   "name": "python3"
  },
  "language_info": {
   "codemirror_mode": {
    "name": "ipython",
    "version": 3
   },
   "file_extension": ".py",
   "mimetype": "text/x-python",
   "name": "python",
   "nbconvert_exporter": "python",
   "pygments_lexer": "ipython3",
   "version": "3.6.5"
  }
 },
 "nbformat": 4,
 "nbformat_minor": 2
}
